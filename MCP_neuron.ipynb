{
 "cells": [
  {
   "cell_type": "code",
   "execution_count": 1,
   "id": "933d1c25-48ab-448c-985d-8c13d09e4f89",
   "metadata": {},
   "outputs": [
    {
     "name": "stdout",
     "output_type": "stream",
     "text": [
      "Requirement already satisfied: numpy in c:\\users\\user\\anaconda3\\lib\\site-packages (2.1.3)\n"
     ]
    }
   ],
   "source": [
    "!pip install numpy\n"
   ]
  },
  {
   "cell_type": "code",
   "execution_count": 18,
   "id": "a68376ab-afb6-420d-8587-c4d475d9e79e",
   "metadata": {},
   "outputs": [
    {
     "name": "stdout",
     "output_type": "stream",
     "text": [
      "OR(0, 0) = 0\n",
      "OR(0, 1) = 1\n",
      "OR(1, 0) = 1\n",
      "OR(1, 1) = 1\n"
     ]
    }
   ],
   "source": [
    "import numpy as np\n",
    "\n",
    "def mcp_or(x1, x2):\n",
    "    weights = [1, 1]\n",
    "    threshold = 0.1\n",
    "    output = 1 if (x1 * weights[0] + x2 * weights[1]) >= threshold else 0\n",
    "    return output\n",
    "\n",
    "# Test all combinations\n",
    "for x1 in [0, 1]:\n",
    "    for x2 in [0, 1]:\n",
    "        print(f\"OR({x1}, {x2}) = {mcp_or(x1, x2)}\")\n"
   ]
  },
  {
   "cell_type": "code",
   "execution_count": 3,
   "id": "97459a17-481b-4d12-aa46-4606e749ddf4",
   "metadata": {},
   "outputs": [
    {
     "name": "stdout",
     "output_type": "stream",
     "text": [
      "AND(0, 0) = 0\n",
      "AND(0, 1) = 0\n",
      "AND(1, 0) = 0\n",
      "AND(1, 1) = 1\n"
     ]
    }
   ],
   "source": [
    "def mcp_and(x1, x2):\n",
    "    weights = [1, 1]\n",
    "    threshold = 2\n",
    "    output = 1 if (x1 * weights[0] + x2 * weights[1]) >= threshold else 0\n",
    "    return output\n",
    "\n",
    "for x1 in [0, 1]:\n",
    "    for x2 in [0, 1]:\n",
    "        print(f\"AND({x1}, {x2}) = {mcp_and(x1, x2)}\")"
   ]
  },
  {
   "cell_type": "code",
   "execution_count": 26,
   "id": "62012fa7-932d-4147-a5b1-06defc3849de",
   "metadata": {},
   "outputs": [
    {
     "name": "stdout",
     "output_type": "stream",
     "text": [
      "XOR(0, 0) = 1\n",
      "XOR(0, 1) = 1\n",
      "XOR(1, 0) = 1\n",
      "XOR(1, 1) = 1\n"
     ]
    }
   ],
   "source": [
    "from sklearn.neural_network import MLPClassifier\n",
    "\n",
    "# XOR inputs and outputs\n",
    "X = np.array([[0,0], [0,1], [1,0], [1,1]])\n",
    "y = np.array([0, 1, 1, 0])\n",
    "\n",
    "# Train MLP\n",
    "mlp = MLPClassifier(hidden_layer_sizes=(2,), activation='logistic', max_iter=1000)\n",
    "mlp.fit(X, y)\n",
    "\n",
    "# Predict\n",
    "for x in X:\n",
    "    print(f\"XOR({x[0]}, {x[1]}) = {mlp.predict([x])[0]}\")"
   ]
  },
  {
   "cell_type": "code",
   "execution_count": 25,
   "id": "70676512-640f-4b3f-9660-94cef71f1932",
   "metadata": {},
   "outputs": [
    {
     "name": "stdout",
     "output_type": "stream",
     "text": [
      "x1~x2(0,0) = 0\n",
      "x1~x2(0,1) = 0\n",
      "x1~x2(1,0) = 1\n",
      "x1~x2(1,1) = 0\n"
     ]
    }
   ],
   "source": [
    "def mcp_x1x2(x1,x2):\n",
    "    weights = [1,-1]\n",
    "    threshold = 0.5\n",
    "    output = 1 if (x1* weights[0] + x2 * weights[1]) >= threshold else 0\n",
    "    return output\n",
    "\n",
    "for x1 in [0,1]:\n",
    "    for x2 in [0,1]:\n",
    "        print(f\"x1~x2({x1},{x2}) = {mcp_x1x2(x1,x2)}\")"
   ]
  },
  {
   "cell_type": "code",
   "execution_count": 27,
   "id": "7035acc9-9d38-42c4-b010-27d0d268797a",
   "metadata": {},
   "outputs": [
    {
     "name": "stdout",
     "output_type": "stream",
     "text": [
      "x1~x2(0,0) = 0\n",
      "x1~x2(0,1) = 1\n",
      "x1~x2(1,0) = 0\n",
      "x1~x2(1,1) = 0\n"
     ]
    }
   ],
   "source": [
    "def mcp_x1x2(x1,x2):\n",
    "    weights = [-1,1]\n",
    "    threshold = 0.5\n",
    "    output = 1 if (x1* weights[0] + x2 * weights[1]) >= threshold else 0\n",
    "    return output\n",
    "\n",
    "for x1 in [0,1]:\n",
    "    for x2 in [0,1]:\n",
    "        print(f\"x1~x2({x1},{x2}) = {mcp_x1x2(x1,x2)}\")"
   ]
  },
  {
   "cell_type": "code",
   "execution_count": null,
   "id": "dda1ebbe-7888-46c2-82f9-850988ccbdce",
   "metadata": {},
   "outputs": [],
   "source": []
  }
 ],
 "metadata": {
  "kernelspec": {
   "display_name": "Python [conda env:base] *",
   "language": "python",
   "name": "conda-base-py"
  },
  "language_info": {
   "codemirror_mode": {
    "name": "ipython",
    "version": 3
   },
   "file_extension": ".py",
   "mimetype": "text/x-python",
   "name": "python",
   "nbconvert_exporter": "python",
   "pygments_lexer": "ipython3",
   "version": "3.13.5"
  }
 },
 "nbformat": 4,
 "nbformat_minor": 5
}
