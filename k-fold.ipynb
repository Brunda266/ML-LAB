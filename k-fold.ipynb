{
 "cells": [
  {
   "cell_type": "code",
   "execution_count": 1,
   "id": "29b2c843-765f-45f8-b615-2063a2412f74",
   "metadata": {},
   "outputs": [
    {
     "name": "stdout",
     "output_type": "stream",
     "text": [
      "✅ Dataset loaded successfully\n"
     ]
    }
   ],
   "source": [
    "import pandas as pd\n",
    "from sklearn.model_selection import KFold, cross_val_score\n",
    "from sklearn.linear_model import LogisticRegression\n",
    "\n",
    "# Load your existing dataset\n",
    "df = pd.read_csv(\"dummy_dataset.csv\")\n",
    "\n",
    "# Features and label\n",
    "X = df[[\"Feature1\", \"Feature2\"]]\n",
    "y = df[\"Label\"]\n",
    "\n",
    "print(\"✅ Dataset loaded successfully\")\n"
   ]
  },
  {
   "cell_type": "code",
   "execution_count": 2,
   "id": "bfe5fc72-7644-4895-a6d1-a89754e5d327",
   "metadata": {},
   "outputs": [],
   "source": [
    "# 5-Fold Cross Validation\n",
    "kf = KFold(n_splits=5, shuffle=True, random_state=42)\n",
    "\n",
    "# Initialize Logistic Regression model\n",
    "model = LogisticRegression(max_iter=1000)\n"
   ]
  },
  {
   "cell_type": "code",
   "execution_count": 3,
   "id": "0728b947-b5cc-41f7-9c97-10561269556e",
   "metadata": {},
   "outputs": [
    {
     "name": "stdout",
     "output_type": "stream",
     "text": [
      "✅ K-Fold Cross Validation Completed\n",
      "Accuracies for each fold: [1.    1.    0.998 0.998 1.   ]\n",
      "Mean Accuracy: 0.9992000000000001\n",
      "Standard Deviation: 0.0009797958971132722\n"
     ]
    }
   ],
   "source": [
    "# Evaluate the model using cross_val_score\n",
    "scores = cross_val_score(model, X, y, cv=kf, scoring='accuracy')\n",
    "\n",
    "print(\"✅ K-Fold Cross Validation Completed\")\n",
    "print(\"Accuracies for each fold:\", scores)\n",
    "print(\"Mean Accuracy:\", scores.mean())\n",
    "print(\"Standard Deviation:\", scores.std())\n"
   ]
  },
  {
   "cell_type": "code",
   "execution_count": 5,
   "id": "b0b8e346-5c77-4a16-9f99-688d40e59d89",
   "metadata": {},
   "outputs": [
    {
     "name": "stdout",
     "output_type": "stream",
     "text": [
      "C=0.01 → Mean CV Accuracy: 0.9976\n",
      "C=0.1 → Mean CV Accuracy: 0.9992\n",
      "C=1 → Mean CV Accuracy: 0.9992\n",
      "C=10 → Mean CV Accuracy: 0.9990\n",
      "C=100 → Mean CV Accuracy: 0.9990\n",
      "\n",
      "✅ Best C value: 0.1 → Mean CV Accuracy: 0.9992000000000001\n"
     ]
    }
   ],
   "source": [
    "C_values = [0.01, 0.1, 1, 10, 100]\n",
    "best_C = None\n",
    "best_score = 0\n",
    "\n",
    "for c in C_values:\n",
    "    temp_model = LogisticRegression(C=c, max_iter=1000)\n",
    "    scores = cross_val_score(temp_model, X, y, cv=kf, scoring='accuracy')\n",
    "    mean_score = scores.mean()\n",
    "    print(f\"C={c} → Mean CV Accuracy: {mean_score:.4f}\")\n",
    "    \n",
    "    if mean_score > best_score:\n",
    "        best_score = mean_score\n",
    "        best_C = c\n",
    "\n",
    "print(\"\\n✅ Best C value:\", best_C, \"→ Mean CV Accuracy:\", best_score)\n"
   ]
  },
  {
   "cell_type": "code",
   "execution_count": 6,
   "id": "a297f87f-30d8-46f4-8272-bd42b2ed1828",
   "metadata": {},
   "outputs": [
    {
     "name": "stdout",
     "output_type": "stream",
     "text": [
      "✅ Final model trained on full dataset\n"
     ]
    }
   ],
   "source": [
    "# Train final model on full dataset with best C\n",
    "final_model = LogisticRegression(C=best_C, max_iter=1000)\n",
    "final_model.fit(X, y)\n",
    "\n",
    "print(\"✅ Final model trained on full dataset\")\n"
   ]
  },
  {
   "cell_type": "code",
   "execution_count": 8,
   "id": "80e2898a-48b2-4205-a3ae-3f01655b1ab8",
   "metadata": {},
   "outputs": [
    {
     "data": {
      "text/html": [
       "<div>\n",
       "<style scoped>\n",
       "    .dataframe tbody tr th:only-of-type {\n",
       "        vertical-align: middle;\n",
       "    }\n",
       "\n",
       "    .dataframe tbody tr th {\n",
       "        vertical-align: top;\n",
       "    }\n",
       "\n",
       "    .dataframe thead th {\n",
       "        text-align: right;\n",
       "    }\n",
       "</style>\n",
       "<table border=\"1\" class=\"dataframe\">\n",
       "  <thead>\n",
       "    <tr style=\"text-align: right;\">\n",
       "      <th></th>\n",
       "      <th>Feature1</th>\n",
       "      <th>Feature2</th>\n",
       "      <th>Actual</th>\n",
       "      <th>Predicted</th>\n",
       "    </tr>\n",
       "  </thead>\n",
       "  <tbody>\n",
       "    <tr>\n",
       "      <th>0</th>\n",
       "      <td>54.967142</td>\n",
       "      <td>27.881202</td>\n",
       "      <td>1</td>\n",
       "      <td>1</td>\n",
       "    </tr>\n",
       "    <tr>\n",
       "      <th>1</th>\n",
       "      <td>48.617357</td>\n",
       "      <td>27.732929</td>\n",
       "      <td>0</td>\n",
       "      <td>0</td>\n",
       "    </tr>\n",
       "    <tr>\n",
       "      <th>2</th>\n",
       "      <td>56.476885</td>\n",
       "      <td>21.021784</td>\n",
       "      <td>0</td>\n",
       "      <td>0</td>\n",
       "    </tr>\n",
       "    <tr>\n",
       "      <th>3</th>\n",
       "      <td>65.230299</td>\n",
       "      <td>28.349549</td>\n",
       "      <td>1</td>\n",
       "      <td>1</td>\n",
       "    </tr>\n",
       "    <tr>\n",
       "      <th>4</th>\n",
       "      <td>47.658466</td>\n",
       "      <td>33.664145</td>\n",
       "      <td>1</td>\n",
       "      <td>1</td>\n",
       "    </tr>\n",
       "    <tr>\n",
       "      <th>5</th>\n",
       "      <td>47.658630</td>\n",
       "      <td>23.628839</td>\n",
       "      <td>0</td>\n",
       "      <td>0</td>\n",
       "    </tr>\n",
       "    <tr>\n",
       "      <th>6</th>\n",
       "      <td>65.792128</td>\n",
       "      <td>35.242413</td>\n",
       "      <td>1</td>\n",
       "      <td>1</td>\n",
       "    </tr>\n",
       "    <tr>\n",
       "      <th>7</th>\n",
       "      <td>57.674347</td>\n",
       "      <td>32.438874</td>\n",
       "      <td>1</td>\n",
       "      <td>1</td>\n",
       "    </tr>\n",
       "    <tr>\n",
       "      <th>8</th>\n",
       "      <td>45.305256</td>\n",
       "      <td>26.328833</td>\n",
       "      <td>0</td>\n",
       "      <td>0</td>\n",
       "    </tr>\n",
       "    <tr>\n",
       "      <th>9</th>\n",
       "      <td>55.425600</td>\n",
       "      <td>29.292352</td>\n",
       "      <td>1</td>\n",
       "      <td>1</td>\n",
       "    </tr>\n",
       "  </tbody>\n",
       "</table>\n",
       "</div>"
      ],
      "text/plain": [
       "    Feature1   Feature2  Actual  Predicted\n",
       "0  54.967142  27.881202       1          1\n",
       "1  48.617357  27.732929       0          0\n",
       "2  56.476885  21.021784       0          0\n",
       "3  65.230299  28.349549       1          1\n",
       "4  47.658466  33.664145       1          1\n",
       "5  47.658630  23.628839       0          0\n",
       "6  65.792128  35.242413       1          1\n",
       "7  57.674347  32.438874       1          1\n",
       "8  45.305256  26.328833       0          0\n",
       "9  55.425600  29.292352       1          1"
      ]
     },
     "execution_count": 8,
     "metadata": {},
     "output_type": "execute_result"
    }
   ],
   "source": [
    "# Predict on the full dataset\n",
    "y_pred = final_model.predict(X)\n",
    "\n",
    "# Create a DataFrame to compare\n",
    "results = pd.DataFrame({\n",
    "    \"Feature1\": X[\"Feature1\"],\n",
    "    \"Feature2\": X[\"Feature2\"],\n",
    "    \"Actual\": y,\n",
    "    \"Predicted\": y_pred\n",
    "})\n",
    "\n",
    "# Show first 10 rows\n",
    "results.head(10)\n",
    "\n"
   ]
  },
  {
   "cell_type": "code",
   "execution_count": 9,
   "id": "38defcc4-91d9-4ab4-b7fe-6bd512147cd9",
   "metadata": {},
   "outputs": [
    {
     "name": "stdout",
     "output_type": "stream",
     "text": [
      "✅ Predictions saved to predicted_vs_actual.csv\n"
     ]
    }
   ],
   "source": [
    "results.to_csv(\"predicted_vs_actual.csv\", index=False)\n",
    "print(\"✅ Predictions saved to predicted_vs_actual.csv\")\n"
   ]
  },
  {
   "cell_type": "code",
   "execution_count": null,
   "id": "97a4c356-8ff8-454d-9bab-a6243dbc0004",
   "metadata": {},
   "outputs": [],
   "source": []
  }
 ],
 "metadata": {
  "kernelspec": {
   "display_name": "Python [conda env:base] *",
   "language": "python",
   "name": "conda-base-py"
  },
  "language_info": {
   "codemirror_mode": {
    "name": "ipython",
    "version": 3
   },
   "file_extension": ".py",
   "mimetype": "text/x-python",
   "name": "python",
   "nbconvert_exporter": "python",
   "pygments_lexer": "ipython3",
   "version": "3.13.5"
  }
 },
 "nbformat": 4,
 "nbformat_minor": 5
}
