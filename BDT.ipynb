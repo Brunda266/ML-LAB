{
 "cells": [
  {
   "cell_type": "code",
   "execution_count": 2,
   "id": "452296cd-b1d8-4fd8-8ca0-2055959b3817",
   "metadata": {},
   "outputs": [
    {
     "name": "stdout",
     "output_type": "stream",
     "text": [
      "Requirement already satisfied: numpy in c:\\users\\user\\appdata\\roaming\\python\\python313\\site-packages (2.3.3)\n",
      "Requirement already satisfied: pandas in c:\\users\\user\\appdata\\roaming\\python\\python313\\site-packages (2.3.0)\n",
      "Requirement already satisfied: scikit-learn in c:\\users\\user\\anaconda3\\lib\\site-packages (1.6.1)\n",
      "Requirement already satisfied: python-dateutil>=2.8.2 in c:\\users\\user\\appdata\\roaming\\python\\python313\\site-packages (from pandas) (2.9.0.post0)\n",
      "Requirement already satisfied: pytz>=2020.1 in c:\\users\\user\\appdata\\roaming\\python\\python313\\site-packages (from pandas) (2025.2)\n",
      "Requirement already satisfied: tzdata>=2022.7 in c:\\users\\user\\appdata\\roaming\\python\\python313\\site-packages (from pandas) (2025.2)\n",
      "Requirement already satisfied: scipy>=1.6.0 in c:\\users\\user\\anaconda3\\lib\\site-packages (from scikit-learn) (1.15.3)\n",
      "Requirement already satisfied: joblib>=1.2.0 in c:\\users\\user\\anaconda3\\lib\\site-packages (from scikit-learn) (1.4.2)\n",
      "Requirement already satisfied: threadpoolctl>=3.1.0 in c:\\users\\user\\anaconda3\\lib\\site-packages (from scikit-learn) (3.5.0)\n",
      "Requirement already satisfied: six>=1.5 in c:\\users\\user\\appdata\\roaming\\python\\python313\\site-packages (from python-dateutil>=2.8.2->pandas) (1.17.0)\n"
     ]
    }
   ],
   "source": [
    "!pip install numpy pandas scikit-learn\n"
   ]
  },
  {
   "cell_type": "code",
   "execution_count": 3,
   "id": "007a494f-4baf-4e90-863d-5a7c6ee066aa",
   "metadata": {},
   "outputs": [],
   "source": [
    "# Import necessary libraries\n",
    "import numpy as np\n",
    "import pandas as pd\n",
    "from sklearn.model_selection import train_test_split\n",
    "from sklearn.naive_bayes import GaussianNB # The specific Naive Bayes model\n",
    "from sklearn.metrics import accuracy_score, confusion_matrix, classification_report\n",
    "from sklearn.datasets import load_iris\n"
   ]
  },
  {
   "cell_type": "code",
   "execution_count": 5,
   "id": "f85a2918-94b8-479c-a35f-5e29d18e3580",
   "metadata": {},
   "outputs": [],
   "source": [
    "#Slpitting data\n",
    "iris = load_iris()\n",
    "x = iris.data\n",
    "y = iris.target\n",
    "x_train,x_test,y_train,y_test = train_test_split(x,y,test_size = 0.3 , random_state=42)"
   ]
  },
  {
   "cell_type": "code",
   "execution_count": 6,
   "id": "8e7e59cd-47df-473f-8acd-8398980dee5e",
   "metadata": {},
   "outputs": [
    {
     "name": "stdout",
     "output_type": "stream",
     "text": [
      "Model training complete. Priors and Likelihoods are stored Internally\n"
     ]
    }
   ],
   "source": [
    "gnb = GaussianNB()\n",
    "gnb.fit(x_train,y_train)\n",
    "print(\"Model training complete. Priors and Likelihoods are stored Internally\")"
   ]
  },
  {
   "cell_type": "code",
   "execution_count": 13,
   "id": "b6c31c14-bf18-48dc-af2a-5a685100957f",
   "metadata": {},
   "outputs": [
    {
     "name": "stdout",
     "output_type": "stream",
     "text": [
      "--- Bayesian Inference Parameters (Priors and Likelihoods) ---\n",
      "\n",
      "1. Prior Probabilities P(Class):\n",
      "P(Setosa):     0.2952\n",
      "P(Versicolor): 0.3524\n",
      "P(Virginica):  0.3524\n",
      "(Sum should be 1.0)\n",
      "\n",
      "2. Gaussian Likelihood Parameters (Mean and Variance):\n",
      "\n",
      "--- Class: setosa (Index 0) ---\n",
      "     Feature  Mean (theta_)  Variance (var_)\n",
      "Sepal Length          4.965          0.11197\n",
      " Sepal Width          3.377          0.13659\n",
      "Petal Length          1.465          0.03326\n",
      " Petal Width          0.248          0.01153\n",
      "\n",
      "--- Class: versicolor (Index 1) ---\n",
      "     Feature  Mean (theta_)  Variance (var_)\n",
      "Sepal Length          5.862          0.27533\n",
      " Sepal Width          2.724          0.08725\n",
      "Petal Length          4.211          0.23934\n",
      " Petal Width          1.303          0.04134\n",
      "\n",
      "--- Class: virginica (Index 2) ---\n",
      "     Feature  Mean (theta_)  Variance (var_)\n",
      "Sepal Length          6.559          0.42241\n",
      " Sepal Width          2.986          0.09630\n",
      "Petal Length          5.546          0.28843\n",
      " Petal Width          2.005          0.08592\n"
     ]
    }
   ],
   "source": [
    "\n",
    "prior_probs = gnb.class_prior_\n",
    "likelihood_means = gnb.theta_\n",
    "likelihood_variances = gnb.var_\n",
    "print(\"--- Bayesian Inference Parameters (Priors and Likelihoods) ---\")\n",
    "print(\"\\n1. Prior Probabilities P(Class):\")\n",
    "print(f\"P(Setosa):     {prior_probs[0]:.4f}\")\n",
    "print(f\"P(Versicolor): {prior_probs[1]:.4f}\")\n",
    "print(f\"P(Virginica):  {prior_probs[2]:.4f}\")\n",
    "print(\"(Sum should be 1.0)\")\n",
    "feature_names = ['Sepal Length', 'Sepal Width', 'Petal Length', 'Petal Width']\n",
    "\n",
    "print(\"\\n2. Gaussian Likelihood Parameters (Mean and Variance):\")\n",
    "for i, class_name in enumerate(iris.target_names):\n",
    "    print(f\"\\n--- Class: {class_name} (Index {i}) ---\")\n",
    "    params_df = pd.DataFrame({\n",
    "        'Feature': feature_names,\n",
    "        'Mean (theta_)': likelihood_means[i].round(3),\n",
    "        'Variance (var_)': likelihood_variances[i].round(5)\n",
    "    })\n",
    "    print(params_df.to_string(index=False))"
   ]
  },
  {
   "cell_type": "code",
   "execution_count": 14,
   "id": "2698d6e2-307a-4b8f-924e-05b51afaba33",
   "metadata": {},
   "outputs": [
    {
     "name": "stdout",
     "output_type": "stream",
     "text": [
      "\n",
      "First 5 Predicted Class Probabilities (Posteriors):\n",
      "[[0.    0.996 0.004]\n",
      " [1.    0.    0.   ]\n",
      " [0.    0.    1.   ]\n",
      " [0.    0.975 0.025]\n",
      " [0.    0.832 0.168]]\n"
     ]
    }
   ],
   "source": [
    "\n",
    "y_pred = gnb.predict(x_test)\n",
    "y_proba = gnb.predict_proba(x_test)\n",
    "print(\"\\nFirst 5 Predicted Class Probabilities (Posteriors):\")\n",
    "print(y_proba[:5].round(3))"
   ]
  },
  {
   "cell_type": "code",
   "execution_count": 15,
   "id": "235b0c71-e0bd-47d1-b773-10441f06eaa1",
   "metadata": {},
   "outputs": [
    {
     "name": "stdout",
     "output_type": "stream",
     "text": [
      "\n",
      "Accuracy (Minimum-Error-Rate Decision): 0.9778\n",
      "\n",
      "Confusion Matrix:\n",
      "[[19  0  0]\n",
      " [ 0 12  1]\n",
      " [ 0  0 13]]\n",
      "\n",
      "Classification Report:\n",
      "              precision    recall  f1-score   support\n",
      "\n",
      "           0       1.00      1.00      1.00        19\n",
      "           1       1.00      0.92      0.96        13\n",
      "           2       0.93      1.00      0.96        13\n",
      "\n",
      "    accuracy                           0.98        45\n",
      "   macro avg       0.98      0.97      0.97        45\n",
      "weighted avg       0.98      0.98      0.98        45\n",
      "\n"
     ]
    }
   ],
   "source": [
    "accuracy = accuracy_score(y_test, y_pred)\n",
    "print(f\"\\nAccuracy (Minimum-Error-Rate Decision): {accuracy:.4f}\")\n",
    "\n",
    "print(\"\\nConfusion Matrix:\")\n",
    "print(confusion_matrix(y_test, y_pred))\n",
    "\n",
    "print(\"\\nClassification Report:\")\n",
    "print(classification_report(y_test, y_pred))"
   ]
  },
  {
   "cell_type": "code",
   "execution_count": 16,
   "id": "96747bf4-ecfc-4d34-9d0b-98b01cac9123",
   "metadata": {},
   "outputs": [
    {
     "name": "stdout",
     "output_type": "stream",
     "text": [
      "\n",
      "--- Bayesian Decision Theory (Custom Risk) Results ---\n",
      "Accuracy with Custom Loss (Decision Rule): 0.9778\n",
      "Confusion Matrix with Custom Loss:\n",
      "[[19  0  0]\n",
      " [ 0 12  1]\n",
      " [ 0  0 13]]\n"
     ]
    }
   ],
   "source": [
    "Loss_Matrix = np.array([\n",
    "    [0, 1, 10],  # True is 0 (Setosa)\n",
    "    [1, 0, 1],   # True is 1 (Versicolor)\n",
    "    [1, 1, 0]    # True is 2 (Virginica)\n",
    "])\n",
    "risk_pred = []\n",
    "for i in range(len(x_test)):\n",
    "    posteriors = y_proba[i]\n",
    "    conditional_risk = np.dot(posteriors, Loss_Matrix)\n",
    "    optimal_action = np.argmin(conditional_risk)\n",
    "    risk_pred.append(optimal_action)\n",
    "y_risk_pred = np.array(risk_pred)\n",
    "\n",
    "new_accuracy = accuracy_score(y_test, y_risk_pred)\n",
    "\n",
    "print(\"\\n--- Bayesian Decision Theory (Custom Risk) Results ---\")\n",
    "print(f\"Accuracy with Custom Loss (Decision Rule): {new_accuracy:.4f}\")\n",
    "print(\"Confusion Matrix with Custom Loss:\")\n",
    "print(confusion_matrix(y_test, y_risk_pred))"
   ]
  },
  {
   "cell_type": "code",
   "execution_count": 17,
   "id": "a6453fdf-1337-4131-a1c8-6ddf7aaa58f3",
   "metadata": {},
   "outputs": [
    {
     "name": "stdout",
     "output_type": "stream",
     "text": [
      "--- Bayesian Inference Parameters (Priors and Likelihoods) ---\n",
      "\n",
      "1. Prior Probabilities P(Class):\n",
      "P(setosa): 0.2952\n",
      "P(versicolor): 0.3524\n",
      "P(virginica): 0.3524\n",
      "\n",
      "2. Gaussian Likelihood Means (theta_):\n",
      "            sepal length (cm)  sepal width (cm)  petal length (cm)  \\\n",
      "setosa                  4.965             3.377              1.465   \n",
      "versicolor              5.862             2.724              4.211   \n",
      "virginica               6.559             2.986              5.546   \n",
      "\n",
      "            petal width (cm)  \n",
      "setosa                 0.248  \n",
      "versicolor             1.303  \n",
      "virginica              2.005  \n",
      "\n",
      "--- Minimum-Error-Rate Decision (Standard Accuracy) ---\n",
      "Accuracy: 0.9778\n",
      "Confusion Matrix:\n",
      "[[19  0  0]\n",
      " [ 0 12  1]\n",
      " [ 0  0 13]]\n",
      "Classification Report:\n",
      "              precision    recall  f1-score   support\n",
      "\n",
      "      setosa       1.00      1.00      1.00        19\n",
      "  versicolor       1.00      0.92      0.96        13\n",
      "   virginica       0.93      1.00      0.96        13\n",
      "\n",
      "    accuracy                           0.98        45\n",
      "   macro avg       0.98      0.97      0.97        45\n",
      "weighted avg       0.98      0.98      0.98        45\n",
      "\n",
      "\n",
      "--- Bayesian Decision Theory (Custom Risk) Results ---\n",
      "Accuracy with Custom Loss: 0.9778\n",
      "Confusion Matrix with Custom Loss:\n",
      "[[19  0  0]\n",
      " [ 0 12  1]\n",
      " [ 0  0 13]]\n",
      "Classification Report with Custom Loss:\n",
      "              precision    recall  f1-score   support\n",
      "\n",
      "      setosa       1.00      1.00      1.00        19\n",
      "  versicolor       1.00      0.92      0.96        13\n",
      "   virginica       0.93      1.00      0.96        13\n",
      "\n",
      "    accuracy                           0.98        45\n",
      "   macro avg       0.98      0.97      0.97        45\n",
      "weighted avg       0.98      0.98      0.98        45\n",
      "\n"
     ]
    }
   ],
   "source": [
    "import numpy as np\n",
    "import pandas as pd\n",
    "from sklearn.model_selection import train_test_split\n",
    "from sklearn.naive_bayes import GaussianNB\n",
    "from sklearn.metrics import accuracy_score, confusion_matrix, classification_report\n",
    "from sklearn.datasets import load_iris\n",
    "\n",
    "\n",
    "iris = load_iris()\n",
    "X = iris.data    # Features\n",
    "y = iris.target  # Target labels\n",
    "\n",
    "X_train, X_test, y_train, y_test = train_test_split(\n",
    "    X, y, test_size=0.3, random_state=42\n",
    ")\n",
    "\n",
    "gnb = GaussianNB()\n",
    "gnb.fit(X_train, y_train)\n",
    "\n",
    "print(\"--- Bayesian Inference Parameters (Priors and Likelihoods) ---\")\n",
    "# 1. Priors P(Class)\n",
    "print(\"\\n1. Prior Probabilities P(Class):\")\n",
    "for i, name in enumerate(iris.target_names):\n",
    "    print(f\"P({name}): {gnb.class_prior_[i]:.4f}\")\n",
    "\n",
    "print(\"\\n2. Gaussian Likelihood Means (theta_):\")\n",
    "likelihood_df = pd.DataFrame(gnb.theta_, columns=iris.feature_names, index=iris.target_names)\n",
    "print(likelihood_df.round(3))\n",
    "\n",
    "y_proba = gnb.predict_proba(X_test)\n",
    "\n",
    "y_pred_min_error = gnb.predict(X_test)\n",
    "\n",
    "accuracy_min_error = accuracy_score(y_test, y_pred_min_error)\n",
    "print(\"\\n--- Minimum-Error-Rate Decision (Standard Accuracy) ---\")\n",
    "print(f\"Accuracy: {accuracy_min_error:.4f}\")\n",
    "print(\"Confusion Matrix:\")\n",
    "print(confusion_matrix(y_test, y_pred_min_error))\n",
    "print(\"Classification Report:\")\n",
    "print(classification_report(y_test, y_pred_min_error, target_names=iris.target_names))\n",
    "\n",
    "Loss_Matrix = np.array([\n",
    "    [0,       1,       10],  # True Class 0 (Setosa)\n",
    "    [1,       0,       1],   # True Class 1 (Versicolor)\n",
    "    [1,       1,       0]    # True Class 2 (Virginica)\n",
    "])\n",
    "\n",
    "risk_predictions = []\n",
    "for posteriors in y_proba:\n",
    "    conditional_risk = np.dot(posteriors, Loss_Matrix)\n",
    "\n",
    "    optimal_action = np.argmin(conditional_risk)\n",
    "    risk_predictions.append(optimal_action)\n",
    "\n",
    "y_pred_custom_risk = np.array(risk_predictions)\n",
    "\n",
    "accuracy_custom_risk = accuracy_score(y_test, y_pred_custom_risk)\n",
    "print(\"\\n--- Bayesian Decision Theory (Custom Risk) Results ---\")\n",
    "print(f\"Accuracy with Custom Loss: {accuracy_custom_risk:.4f}\")\n",
    "print(\"Confusion Matrix with Custom Loss:\")\n",
    "print(confusion_matrix(y_test, y_pred_custom_risk))\n",
    "print(\"Classification Report with Custom Loss:\")\n",
    "print(classification_report(y_test, y_pred_custom_risk, target_names=iris.target_names))"
   ]
  },
  {
   "cell_type": "code",
   "execution_count": null,
   "id": "838542b1-4f57-43be-b978-ceb014f10edc",
   "metadata": {},
   "outputs": [],
   "source": []
  }
 ],
 "metadata": {
  "kernelspec": {
   "display_name": "Python [conda env:base] *",
   "language": "python",
   "name": "conda-base-py"
  },
  "language_info": {
   "codemirror_mode": {
    "name": "ipython",
    "version": 3
   },
   "file_extension": ".py",
   "mimetype": "text/x-python",
   "name": "python",
   "nbconvert_exporter": "python",
   "pygments_lexer": "ipython3",
   "version": "3.13.5"
  }
 },
 "nbformat": 4,
 "nbformat_minor": 5
}
